{
 "cells": [
  {
   "cell_type": "code",
   "execution_count": null,
   "metadata": {},
   "outputs": [],
   "source": [
    "import numpy as np\n",
    "from sklearn import datasets\n",
    "\n",
    "def make_hyperbolic_paraboloid(N, rng, random_state=True):\n",
    "    # N            : データ数\n",
    "    # rng          : 幅，等方となるように設定\n",
    "    # random_state : 乱数\n",
    "    data_space_X, data_space_Y = np.meshgrid(np.linspace(-rng,rng,N), np.linspace(-rng,rng,N))\n",
    "    data_space_Z = data_space_X**2 - data_space_Y**2\n",
    "    X = np.stack((data_space_X, data_space_Y, data_space_Z),axis=-1)\n",
    "    X = np.reshape(X,(N**2,3))\n",
    "    if random_state:\n",
    "        X[:,0] = np.random.random(N**2) * 2 -1\n",
    "        X[:,1] = np.random.random(N**2) * 2 -1\n",
    "        X[:,2] = X[:,0]**2 - X[:,1]**2\n",
    "    return\n",
    "\n",
    "def make_swiss_roll(n_samples, noise, random_state):\n",
    "    return datasets.make_swiss_roll(n_samples, noise, random_state)"
   ]
  }
 ],
 "metadata": {
  "kernelspec": {
   "display_name": "Python 3",
   "language": "python",
   "name": "python3"
  },
  "language_info": {
   "codemirror_mode": {
    "name": "ipython",
    "version": 3
   },
   "file_extension": ".py",
   "mimetype": "text/x-python",
   "name": "python",
   "nbconvert_exporter": "python",
   "pygments_lexer": "ipython3",
   "version": "3.7.2"
  }
 },
 "nbformat": 4,
 "nbformat_minor": 2
}
